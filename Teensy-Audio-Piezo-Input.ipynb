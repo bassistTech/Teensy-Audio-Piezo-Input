{
 "cells": [
  {
   "cell_type": "markdown",
   "metadata": {},
   "source": [
    "# Teensy-Audio-Piezo-Input\n",
    "Piezo transducer input for Teensy Audio Shield\n",
    "\n",
    "Status: I just began building this document... bear with me!\n",
    "\n",
    "This project modifies a Teensy Audio Shield to accept the relatively weak singal from\n",
    "a piezoelectric transducer. \"Piezo\" pickups are frequenly used to amplify acoustic\n",
    "instruments such as the double bass, but could have other uses in vibration sensing\n",
    "or wearable tech.\n",
    "\n",
    "**Teensy Audio Shield**: https://www.pjrc.com/store/teensy3_audio.html\n",
    "\n",
    "**Note that this modification hasn't been checked out by the maker of the Teensy Audio Shield.**\n",
    "\n",
    "A typical requirement for a piezo is fairly high input impedance -- 1 or even\n",
    "10 MegOhms, and of course low noise is desirable. These transducers are modeled\n",
    "as a voltage source in series with a capacitance, and a resistive load can alter\n",
    "the frequency response.\n",
    "\n",
    "The Teensy Audio Shield uses a SGTL5000 audio codec, whose microphone input has\n",
    "an input impedance of 2k Ohms. Some kind of buffering is needed. The first thing\n",
    "that comes to mind is an op amp, but it actually needs a lot of support components\n",
    "to operate on a single power supply.\n",
    "\n",
    "Instead, a JFET does everything, albeit a bit more crudely. Here's my circuit.\n",
    "I modified the Audio Shield, removing the microphone bias resistor. This lets me\n",
    "use MICBIAS as a clean low-voltage power supply. I use it to power a basic JFET source\n",
    "follower circuit. The input impedance is set by a resistor -- choose what you want.\n",
    "I added a blocking capacitor, even though a piezo is naturally zero-biased, because\n",
    "it can produce very low frequency signals when handled or bent, and some other\n",
    "input sources might not be so friendly.\n",
    "\n",
    "My choice of JFET... arrgh. JFETs are gradually dwindling in availability. Many\n",
    "of the nicest types have gone obsolete. I need a JFET with a low gate-source\n",
    "voltage, because I've only got about 3 V to play with. This is a bit of an\n",
    "empirical exercise -- I've tested a lot of JFETs. The Philips BF861B is still\n",
    "available in a surface mount package from Mouser. I also tried a through-hole\n",
    "version of the 2N4393, and a surface mount version MMBF4394 might work. I would\n",
    "always prepare to measure the DC source voltage on any JFET circuit, and prepare\n",
    "to try a few pieces before you're happy.\n",
    "\n",
    "I used a tiny surface mount breakout board, Mouser part # 485-1230, made by\n",
    "Adafruit. Surface mount resistors would of course be cool to use, but I had to\n",
    "use whatever I had.\n"
   ]
  },
  {
   "cell_type": "markdown",
   "metadata": {},
   "source": [
    "## Schematic\n",
    "\n",
    "![](images/schem.jpg)"
   ]
  },
  {
   "cell_type": "markdown",
   "metadata": {},
   "source": [
    "## Construction\n",
    "Here's the original circuit:\n",
    "![](images/before.jpg)"
   ]
  },
  {
   "cell_type": "markdown",
   "metadata": {},
   "source": [
    "We have to remove that 2.2k resistor, and then find a place to connect MICBIAS. Here's the resistor:\n",
    "![](images/loc2.jpg)"
   ]
  },
  {
   "cell_type": "markdown",
   "metadata": {},
   "source": [
    "I removed it by just getting a small blob of solder on my iron, and rubbing it back and forth between the two terminals of the resistor. When the resistor comes off, make sure the circuit boards pads aren't shorted together with solder.\n",
    "\n",
    "Connecting a wire directly to the SGTL5000 chip was going to be tricky, so I used a continuity checker to find that 2.2 uF capacitor. Then I confirmed that I could actually measure MICBIAS there:\n",
    "![](images/loc1.jpg)"
   ]
  },
  {
   "cell_type": "markdown",
   "metadata": {},
   "source": [
    "I attached a fine wire to MICBIAS, taking care not to remove the capacitor altogether. Here's the prepped board:\n",
    "![](images/step2.jpg)"
   ]
  },
  {
   "cell_type": "markdown",
   "metadata": {},
   "source": [
    "And here's the finished circuit:\n",
    "![](images/step4.jpg)"
   ]
  },
  {
   "cell_type": "markdown",
   "metadata": {},
   "source": [
    "## What's next?\n",
    "I'm working on two more installments:\n",
    "1. How I tested it, to confirm its audio performance\n",
    "2. How I did something useful with it."
   ]
  },
  {
   "cell_type": "code",
   "execution_count": null,
   "metadata": {},
   "outputs": [],
   "source": []
  }
 ],
 "metadata": {
  "kernelspec": {
   "display_name": "Python 3",
   "language": "python",
   "name": "python3"
  },
  "language_info": {
   "codemirror_mode": {
    "name": "ipython",
    "version": 3
   },
   "file_extension": ".py",
   "mimetype": "text/x-python",
   "name": "python",
   "nbconvert_exporter": "python",
   "pygments_lexer": "ipython3",
   "version": "3.8.1"
  }
 },
 "nbformat": 4,
 "nbformat_minor": 2
}
